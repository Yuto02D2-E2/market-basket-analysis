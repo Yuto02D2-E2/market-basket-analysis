{
  "nbformat": 4,
  "nbformat_minor": 0,
  "metadata": {
    "colab": {
      "name": "market-basket-analysis.ipynb",
      "provenance": []
    },
    "kernelspec": {
      "name": "python3",
      "display_name": "Python 3"
    },
    "language_info": {
      "name": "python"
    }
  },
  "cells": [
    {
      "cell_type": "markdown",
      "source": [
        "# 実験及び演習 第1ターム 関先生\n",
        "\n",
        "マーケットバスケット分析 + ナップサックDP"
      ],
      "metadata": {
        "id": "oCVN_FdX-Yag"
      }
    },
    {
      "cell_type": "markdown",
      "source": [
        "## 開発したシステムは以下\n",
        "\n",
        "- 入力して整形\n",
        "- マーケットバスケット分析\n",
        "- ナップサックDP\n"
      ],
      "metadata": {
        "id": "EY4ualzY-i5p"
      }
    },
    {
      "cell_type": "code",
      "source": [
        "\"\"\" check hardware info \"\"\" \n",
        "!lscpu\n",
        "!nvidia-smi\n"
      ],
      "metadata": {
        "id": "UNAVdkHj-X-b"
      },
      "execution_count": null,
      "outputs": []
    },
    {
      "cell_type": "code",
      "execution_count": null,
      "metadata": {
        "id": "Iau7hpmo-LDG"
      },
      "outputs": [],
      "source": [
        "\"\"\" install library \"\"\"\n",
        "!pip install numpy pandas matplotlib mlxtend tqdm\n",
        "\n",
        "\n",
        "\"\"\" import library \"\"\"\n",
        "from tqdm.notebook import tqdm # プログレスバーを表示する\n",
        "from logging import Logger\n",
        "from logging import getLogger\n",
        "from logging import basicConfig\n",
        "from logging import DEBUG\n",
        "from logging import StreamHandler\n",
        "import os\n",
        "import datetime\n",
        "from logging import FileHandler\n",
        "import pandas as pd\n",
        "from collections import defaultdict\n",
        "import pickle\n",
        "from mlxtend.preprocessing import TransactionEncoder\n",
        "from mlxtend.frequent_patterns import apriori\n",
        "from mlxtend.frequent_patterns import association_rules\n"
      ]
    },
    {
      "cell_type": "code",
      "source": [
        "\"\"\" init logger \"\"\"\n",
        "logger = getLogger(\"logger\")\n",
        "logger.setLevel(DEBUG)\n",
        "basicConfig(\n",
        "    level=DEBUG,\n",
        "    datefmt='%H:%M:%S-%Y/%m/%d',\n",
        "    format='[logger/%(levelname)s] %(asctime)s | %(funcName)s/l:%(lineno)s | msg:%(message)s',\n",
        ")\n"
      ],
      "metadata": {
        "id": "rz7izC-n-7XD"
      },
      "execution_count": null,
      "outputs": []
    },
    {
      "cell_type": "code",
      "source": [
        "\"\"\" load data \"\"\"\n",
        "# 実行時間：1年分で約30秒\n",
        "logger.info(\"start:read csv\")\n",
        "# csv_dataset: pd.DataFrame = pd.read_csv(\"/content/drive/MyDrive/実験及び演習/data-month.csv\", encoding=\"UTF-8\", dtype=str) # 1ヶ月分\n",
        "csv_dataset: pd.DataFrame = pd.read_csv(\"/content/drive/MyDrive/実験及び演習/data-year.csv\", encoding=\"UTF-8\", dtype=str) # 1年分\n",
        "display(csv_dataset.info())\n",
        "# display(csv_dataset.head(3))\n",
        "logger.info(\"end:read csv\")\n"
      ],
      "metadata": {
        "id": "GSLA8ce9-7O0"
      },
      "execution_count": null,
      "outputs": []
    },
    {
      "cell_type": "code",
      "source": [
        "\"\"\" create dictionary \"\"\"\n",
        "# 実行時間：1年分で約10分(563万件/O(10**6))\n",
        "logger.info(\"start:create dict\")\n",
        "dataset = defaultdict(list)\n",
        "classified_names = set()\n",
        "prices = defaultdict(int)\n",
        "for i in tqdm(range(len(csv_dataset))):\n",
        "    receipt = csv_dataset.loc[i]\n",
        "    if str(receipt[\"購入商品名\"]).strip() == \"nan\" or str(receipt[\"分類名\"]).strip() == \"新規アイテム\" or str(receipt[\"単価\"]) == \"単価\":\n",
        "        # ごみデータをスキップ\n",
        "        continue\n",
        "    classified_name = str(receipt[\"分類名\"]).strip().replace(\"\\u3000\", \"\").replace(\" \", \"\")\n",
        "    classified_names.add(classified_name)\n",
        "    if prices[classified_name]: # 既に登録していた場合は平均を取る\n",
        "        prices[classified_name] = ((prices[classified_name] + int(receipt[\"単価\"])) // 2)\n",
        "    else:\n",
        "        prices[classified_name] = int(receipt[\"単価\"])   \n",
        "    dataset[receipt[\"レシート番号\"]].append(classified_name)\n",
        "dataset = dataset.values()\n",
        "# print(sorted(prices.items(), key=lambda k: k[1], reverse=True)[:-100]) # 単価=0が無いことを確認\n",
        "\n",
        "\n",
        "\"\"\" create dataframe \"\"\"\n",
        "logger.info(\"start:create df\")\n",
        "# ref: http://rasbt.github.io/mlxtend/user_guide/preprocessing/TransactionEncoder/\n",
        "te = TransactionEncoder()\n",
        "te_array = te.fit(dataset).transform(dataset)\n",
        "df = pd.DataFrame(te_array, columns=te.columns_)\n",
        "\n",
        "\n",
        "\"\"\" save checkpoint \"\"\"\n",
        "with open(\"/content/drive/MyDrive/実験及び演習/classified_names.pickle\", \"wb\") as f:\n",
        "    pickle.dump(classified_names, f)\n",
        "with open(\"/content/drive/MyDrive/実験及び演習/prices.pickle\", \"wb\") as f:\n",
        "    pickle.dump(prices, f)\n",
        "df.to_pickle(\"/content/drive/MyDrive/実験及び演習/dataframe_data_year.pickle\") # dataframeを保存\n"
      ],
      "metadata": {
        "id": "f6cxtyID-7BQ"
      },
      "execution_count": null,
      "outputs": []
    },
    {
      "cell_type": "code",
      "source": [
        "\"\"\" check \"\"\"\n",
        "display(df.info())\n",
        "display(df.head())\n",
        "df.shape\n",
        "display(list(prices.items())[:10])\n",
        "print(\"classified names size:\", len(classified_names))\n"
      ],
      "metadata": {
        "id": "JOZCmbi0_DPg"
      },
      "execution_count": null,
      "outputs": []
    },
    {
      "cell_type": "code",
      "source": [
        "\"\"\" apriori \"\"\"\n",
        "# ref: http://rasbt.github.io/mlxtend/user_guide/frequent_patterns/apriori/\n",
        "# 実行時間：1年分で約30分(min_support=0.001の場合)\n",
        "# 実行時間：1年分で約4分(min_support=0.005の場合)\n",
        "logger.info(\"start:apriori\")\n",
        "frequent_itemsets = apriori(df, min_support=0.001, use_colnames=True)\n",
        "# frequent_itemsets = apriori(df, min_support=0.005, use_colnames=True) # 1年分で143個\n",
        "# frequent_itemsets = apriori(df, min_support=0.01, use_colnames=True) # 1年分で59個\n",
        "frequent_itemsets['length'] = frequent_itemsets['itemsets'].apply(lambda x: len(x)) # \"length\" 列を追加\n",
        "frequent_itemsets = frequent_itemsets[(frequent_itemsets[\"length\"] <= 2)] # lengthが2以下のものを抽出\n",
        "frequent_itemsets.to_pickle(\"/content/drive/MyDrive/実験及び演習/frequent_itemsets_year_0001.pickle\") # dataframeを保存\n",
        "logger.info(\"end:apriori\")\n",
        "# print(\"frequent itemsets\")\n",
        "# display(frequent_itemsets)\n"
      ],
      "metadata": {
        "id": "21mQjwea_DMI"
      },
      "execution_count": null,
      "outputs": []
    },
    {
      "cell_type": "code",
      "source": [
        "\"\"\" check \"\"\"\n",
        "from collections import Counter\n",
        "print(Counter(frequent_itemsets[\"length\"]))\n",
        "\n",
        "# pd.set_option('display.max_rows', None)\n",
        "frequent_itemsets.loc[:, [\"itemsets\", \"length\"]]\n",
        "pd.set_option('display.max_rows', 10)\n"
      ],
      "metadata": {
        "id": "D5osWkZ3_DH_"
      },
      "execution_count": null,
      "outputs": []
    },
    {
      "cell_type": "code",
      "source": [
        "\"\"\" association rules \"\"\"\n",
        "# ref: http://rasbt.github.io/mlxtend/user_guide/frequent_patterns/association_rules/\n",
        "# 実行時間：1年分でも1秒\n",
        "logger.info(\"start:association\")\n",
        "rules = association_rules(frequent_itemsets, metric=\"confidence\", min_threshold=0.001)\n",
        "rules = rules[(rules[\"lift\"] >= 1)] # lift値が1未満のものは不適切なので除去\n",
        "logger.info(\"end:association\")\n",
        "# print(\"rules\")\n",
        "# display(rules)\n",
        "display(rules.sort_values(\"lift\", ascending=False).loc[:, [\"antecedents\", \"consequents\", \"lift\"]])\n"
      ],
      "metadata": {
        "id": "LmtJAYZb_KZH"
      },
      "execution_count": null,
      "outputs": []
    },
    {
      "cell_type": "code",
      "source": [
        "def recommendation_system() -> bool:\n",
        "    \"\"\" input user select \"\"\"\n",
        "    while True:\n",
        "        user_select = input(\"user select (enter \\\"exit\\\" to exit):\").strip()\n",
        "        if user_select == \"exit\":\n",
        "            print(\"ok. bye\")\n",
        "            return True\n",
        "        if user_select in classified_names:\n",
        "            break\n",
        "        else:\n",
        "            print(\"Please select from the products you have purchased in the past\")\n",
        "            print(\"select agein ? (y/n)\")\n",
        "            if input() == \"y\":\n",
        "                continue\n",
        "            user_select = classified_names.pop()\n",
        "            classified_names.add(user_select) # 参照したいだけなので，元に戻す\n",
        "            break\n",
        "    print(\"user_select:\", user_select)\n",
        "\n",
        "\n",
        "    \"\"\" create values list \"\"\"\n",
        "    values = defaultdict(int)\n",
        "    for antecedents, consequents, confidence in zip(rules[\"antecedents\"], rules[\"consequents\"], rules[\"confidence\"]):\n",
        "        antecedents = \"\".join(list(antecedents)).strip()\n",
        "        consequents = \"\".join(list(consequents)).strip()\n",
        "        if user_select in antecedents:\n",
        "            values[consequents] = int(confidence * 1000)\n",
        "    classified_num = len(values)\n",
        "    print(\"candidate size:\", classified_num)\n",
        "    if classified_num == 0:\n",
        "        return False\n",
        "\n",
        "\n",
        "    \"\"\" knapsack dp \"\"\"\n",
        "    # logger.info(\"start:knapsack dp\")\n",
        "    max_cost = min(10**4, int(input(\"input max cost (between 10 and 10000):\")))\n",
        "    print(f\"size of dp: {(classified_num + 1)} * {(max_cost + 1)} = {(classified_num + 1) * (max_cost + 1)}\")\n",
        "    # dpとprevの大きさは10^4 * 10^4 くらいならok (空間計算量，時間計算量がO(NM)なので)\n",
        "\n",
        "    dp = [[0 for _ in range(max_cost + 1)] for _ in range(classified_num + 1)]\n",
        "    # dp[i][j] := i番目までの商品で，予算j以内とした時の最大の利益\n",
        "    prev = [[0 for _ in range(max_cost + 1)] for _ in range(classified_num + 1)]\n",
        "    # prev[i][j] := dp[i + 1][j]がdp[i][prev[i + 1][j]]で更新された\n",
        "\n",
        "    for i, (classified_name, value) in enumerate(values.items()):\n",
        "        price = prices[classified_name]\n",
        "        for cost in range(max_cost + 1):\n",
        "            if price <= cost:\n",
        "                if dp[i + 1][cost] < dp[i][cost - price] + value:\n",
        "                    dp[i + 1][cost] = dp[i][cost - price] + value\n",
        "                    prev[i + 1][cost] = cost - price\n",
        "            if dp[i + 1][cost] < dp[i][cost]:\n",
        "                dp[i + 1][cost] = dp[i][cost]\n",
        "                prev[i + 1][cost] = cost\n",
        "\n",
        "    \"\"\" recovery of optimal solution \"\"\"\n",
        "    value_keys = list(values.keys())\n",
        "    current_cost = max_cost\n",
        "    opt_set = set()\n",
        "    used_cost = 0\n",
        "    for i in reversed(range(classified_num)):\n",
        "        if prev[i + 1][current_cost] == current_cost - prices[value_keys[i]]:\n",
        "            opt_set.add(value_keys[i])\n",
        "            used_cost += int(prices[value_keys[i]])\n",
        "        current_cost = prev[i + 1][current_cost]\n",
        "    # logger.info(\"end:knapsack dp\")\n",
        "\n",
        "\n",
        "    \"\"\" printout result \"\"\"\n",
        "    print(\"-------------------------------------------------------------------\")\n",
        "    print(\"user select:\", user_select)\n",
        "    print(\"candidate size:\", classified_num)\n",
        "    print(\"candidate:\", values)\n",
        "    print(\"recommend:\")\n",
        "    print(f\"\\tused cost:{used_cost} / {max_cost}\")\n",
        "    print(\"\\tproduct:\")\n",
        "    minus = 0\n",
        "    for opt in opt_set:\n",
        "        if prices[opt] == 0:\n",
        "            minus += prices[opt]\n",
        "            # continue\n",
        "        print(f\"\\t\\tcost(price):{prices[opt]} / value(confidence):{values[opt]} / classified name:{opt}\")\n",
        "    print(\"value(dp[classified_num][max_cost]):\", dp[classified_num][max_cost] - minus)\n",
        "    print(\"-------------------------------------------------------------------\\n\\n\\n\")\n",
        "    return False\n",
        "\n",
        "\n",
        "if __name__ == \"__main__\":\n",
        "    while True:\n",
        "        if recommendation_system():\n",
        "            break\n",
        "\n"
      ],
      "metadata": {
        "id": "PoJqmrBq_KWY"
      },
      "execution_count": null,
      "outputs": []
    },
    {
      "cell_type": "code",
      "source": [
        ""
      ],
      "metadata": {
        "id": "jFx6t3pE_C_a"
      },
      "execution_count": null,
      "outputs": []
    },
    {
      "cell_type": "markdown",
      "source": [
        "## 成果発表会のデモンストレーション用\n",
        "前処理からマーケットバスケット分析までは事前に作成したpickleデータを使用する．\n",
        "DPと推薦システムの動作を見せる"
      ],
      "metadata": {
        "id": "vMPKx5XE-qJO"
      }
    },
    {
      "cell_type": "code",
      "source": [
        "\"\"\" check hardware info \"\"\" \n",
        "!lscpu\n",
        "!nvidia-smi\n",
        "\n",
        "\"\"\" install library \"\"\"\n",
        "!pip install numpy pandas matplotlib mlxtend tqdm\n",
        "\n",
        "\"\"\" import library \"\"\"\n",
        "from tqdm.notebook import tqdm # プログレスバーを表示する\n",
        "from logging import Logger\n",
        "from logging import getLogger\n",
        "from logging import basicConfig\n",
        "from logging import DEBUG\n",
        "from logging import StreamHandler\n",
        "import os\n",
        "import datetime\n",
        "from logging import FileHandler\n",
        "import pandas as pd\n",
        "from collections import defaultdict\n",
        "import pickle\n",
        "from mlxtend.preprocessing import TransactionEncoder\n",
        "from mlxtend.frequent_patterns import apriori\n",
        "from mlxtend.frequent_patterns import association_rules\n"
      ],
      "metadata": {
        "id": "mOtW7TiT-3uU"
      },
      "execution_count": null,
      "outputs": []
    },
    {
      "cell_type": "code",
      "source": [
        "\"\"\" init logger \"\"\"\n",
        "logger = getLogger(\"logger\")\n",
        "logger.setLevel(DEBUG)\n",
        "basicConfig(\n",
        "    level=DEBUG,\n",
        "    datefmt='%H:%M:%S-%Y/%m/%d',\n",
        "    format='[logger/%(levelname)s] %(asctime)s | %(funcName)s/l:%(lineno)s | msg:%(message)s',\n",
        ")\n",
        "\n",
        "\n",
        "\"\"\" load pickle data \"\"\"\n",
        "logger.info(\"start:load pickle data\")\n",
        "with open(\"/content/drive/MyDrive/実験及び演習/classified_names.pickle\", \"rb\") as f:\n",
        "    classified_names = pickle.load(f)\n",
        "with open(\"/content/drive/MyDrive/実験及び演習/prices.pickle\", \"rb\") as f:\n",
        "    prices = pickle.load(f)\n",
        "frequent_itemsets = pd.read_pickle(\"/content/drive/MyDrive/実験及び演習/frequent_itemsets_year_0001.pickle\")\n",
        "logger.info(\"end:load pickle data\")\n",
        "\n",
        "\n",
        "\"\"\" association rules \"\"\"\n",
        "logger.info(\"start:association\")\n",
        "rules = association_rules(frequent_itemsets, metric=\"confidence\", min_threshold=0.001)\n",
        "rules = rules[(rules[\"lift\"] >= 1)] # lift値が1未満のものは不適切なので除去\n",
        "logger.info(\"end:association\")\n",
        "\n",
        "\n",
        "def recommendation_system() -> bool:\n",
        "    \"\"\" input user select \"\"\"\n",
        "    while True:\n",
        "        user_select = input(\"user select (enter \\\"exit\\\" to exit):\").strip()\n",
        "        if user_select == \"exit\":\n",
        "            print(\"ok. bye\")\n",
        "            return True\n",
        "        if user_select in classified_names:\n",
        "            break\n",
        "        else:\n",
        "            print(\"Please select from the products you have purchased in the past\")\n",
        "            print(\"select agein ? (y/n)\")\n",
        "            if input() == \"y\":\n",
        "                continue\n",
        "            user_select = classified_names.pop()\n",
        "            classified_names.add(user_select) # 参照したいだけなので，元に戻す\n",
        "            break\n",
        "    print(\"user_select:\", user_select)\n",
        "\n",
        "\n",
        "    \"\"\" create values list \"\"\"\n",
        "    values = defaultdict(int)\n",
        "    for antecedents, consequents, confidence in zip(rules[\"antecedents\"], rules[\"consequents\"], rules[\"confidence\"]):\n",
        "        antecedents = \"\".join(list(antecedents)).strip()\n",
        "        consequents = \"\".join(list(consequents)).strip()\n",
        "        if user_select in antecedents:\n",
        "            values[consequents] = int(confidence * 1000)\n",
        "    classified_num = len(values)\n",
        "    print(\"candidate size:\", classified_num)\n",
        "    if classified_num == 0:\n",
        "        return False\n",
        "\n",
        "\n",
        "    \"\"\" knapsack dp \"\"\"\n",
        "    # logger.info(\"start:knapsack dp\")\n",
        "    max_cost = min(10**4, int(input(\"input max cost (between 10 and 10000):\")))\n",
        "    print(f\"size of dp: {(classified_num + 1)} * {(max_cost + 1)} = {(classified_num + 1) * (max_cost + 1)}\")\n",
        "    # dpとprevの大きさは10^4 * 10^4 くらいならok (空間計算量，時間計算量がO(NM)なので)\n",
        "\n",
        "    dp = [[0 for _ in range(max_cost + 1)] for _ in range(classified_num + 1)]\n",
        "    # dp[i][j] := i番目までの商品で，予算j以内とした時の最大の利益\n",
        "    prev = [[0 for _ in range(max_cost + 1)] for _ in range(classified_num + 1)]\n",
        "    # prev[i][j] := dp[i + 1][j]がdp[i][prev[i + 1][j]]で更新された\n",
        "\n",
        "    for i, (classified_name, value) in enumerate(values.items()):\n",
        "        price = prices[classified_name]\n",
        "        for cost in range(max_cost + 1):\n",
        "            if price <= cost:\n",
        "                if dp[i + 1][cost] < dp[i][cost - price] + value:\n",
        "                    dp[i + 1][cost] = dp[i][cost - price] + value\n",
        "                    prev[i + 1][cost] = cost - price\n",
        "            if dp[i + 1][cost] < dp[i][cost]:\n",
        "                dp[i + 1][cost] = dp[i][cost]\n",
        "                prev[i + 1][cost] = cost\n",
        "\n",
        "    \"\"\" recovery of optimal solution \"\"\"\n",
        "    value_keys = list(values.keys())\n",
        "    current_cost = max_cost\n",
        "    opt_set = set()\n",
        "    used_cost = 0\n",
        "    for i in reversed(range(classified_num)):\n",
        "        if prev[i + 1][current_cost] == current_cost - prices[value_keys[i]]:\n",
        "            opt_set.add(value_keys[i])\n",
        "            used_cost += int(prices[value_keys[i]])\n",
        "        current_cost = prev[i + 1][current_cost]\n",
        "    # logger.info(\"end:knapsack dp\")\n",
        "\n",
        "\n",
        "    \"\"\" printout result \"\"\"\n",
        "    print(\"-------------------------------------------------------------------\")\n",
        "    print(\"user select:\", user_select)\n",
        "    print(\"candidate size:\", classified_num)\n",
        "    print(\"candidate:\", values)\n",
        "    print(\"recommend:\")\n",
        "    print(f\"\\tused cost:{used_cost} / {max_cost}\")\n",
        "    print(\"\\tproduct:\")\n",
        "    minus = 0\n",
        "    for opt in opt_set:\n",
        "        if prices[opt] == 0:\n",
        "            minus += prices[opt]\n",
        "            # continue\n",
        "        print(f\"\\t\\tcost(price):{prices[opt]} / value(confidence):{values[opt]} / classified name:{opt}\")\n",
        "    print(\"value(dp[classified_num][max_cost]):\", dp[classified_num][max_cost] - minus)\n",
        "    print(\"-------------------------------------------------------------------\\n\\n\\n\")\n",
        "    return False\n",
        "\n",
        "\n",
        "if __name__ == \"__main__\":\n",
        "    while True:\n",
        "        if recommendation_system():\n",
        "            break\n"
      ],
      "metadata": {
        "id": "_59-G40q-4LG"
      },
      "execution_count": null,
      "outputs": []
    }
  ]
}